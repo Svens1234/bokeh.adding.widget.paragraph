{
 "cells": [
  {
   "cell_type": "code",
   "execution_count": 6,
   "id": "bb3c6275",
   "metadata": {},
   "outputs": [],
   "source": [
    "from bokeh.io import show\n",
    "from bokeh.models import Paragraph"
   ]
  },
  {
   "cell_type": "code",
   "execution_count": 7,
   "id": "40281c84",
   "metadata": {},
   "outputs": [],
   "source": [
    "p = Paragraph(text=\"\"\"Your text is initialized with the 'text' argument.  The\n",
    "remaining Paragraph arguments are 'width' and 'height'. For this example, those values\n",
    "are 200 and 100, respectively.\"\"\",\n",
    "width=200, height=100)\n",
    "\n",
    "show(p)"
   ]
  },
  {
   "cell_type": "code",
   "execution_count": null,
   "id": "c1e23c82",
   "metadata": {},
   "outputs": [],
   "source": []
  }
 ],
 "metadata": {
  "kernelspec": {
   "display_name": "Python 3 (ipykernel)",
   "language": "python",
   "name": "python3"
  },
  "language_info": {
   "codemirror_mode": {
    "name": "ipython",
    "version": 3
   },
   "file_extension": ".py",
   "mimetype": "text/x-python",
   "name": "python",
   "nbconvert_exporter": "python",
   "pygments_lexer": "ipython3",
   "version": "3.10.5"
  }
 },
 "nbformat": 4,
 "nbformat_minor": 5
}
